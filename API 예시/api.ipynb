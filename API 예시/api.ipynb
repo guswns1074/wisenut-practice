{
 "cells": [
  {
   "cell_type": "code",
   "execution_count": null,
   "metadata": {},
   "outputs": [
    {
     "name": "stdout",
     "output_type": "stream",
     "text": [
      "http://localhost:8085\n",
      " * Serving Flask app \"__main__\" (lazy loading)\n",
      " * Environment: production\n",
      "   WARNING: Do not use the development server in a production environment.\n",
      "   Use a production WSGI server instead.\n",
      " * Debug mode: off\n"
     ]
    },
    {
     "name": "stderr",
     "output_type": "stream",
     "text": [
      " * Running on http://127.0.0.1:8085/ (Press CTRL+C to quit)\n",
      "127.0.0.1 - - [23/Sep/2019 17:37:02] \"\u001b[37mGET / HTTP/1.1\u001b[0m\" 200 -\n",
      "127.0.0.1 - - [23/Sep/2019 17:37:05] \"\u001b[37mGET /api?text=%ED%99%8D%EA%B8%B8%EB%8F%99%EC%9D%98%20%EA%B5%AD%EB%AF%BC%EC%9D%80%ED%96%89%20%EA%B3%84%EC%A2%8C%EB%A1%9C%20%EC%98%A4%EC%8B%AD%EC%98%A4%EB%A7%8C%20%EC%9C%A1%EC%B2%9C%20%ED%8C%94%EB%B0%B1%20%EC%B9%A0%EC%8B%AD%EC%9B%90%20%EB%B3%B4%EB%82%B4%EC%A4%98 HTTP/1.1\u001b[0m\" 200 -\n",
      "127.0.0.1 - - [23/Sep/2019 17:38:11] \"\u001b[37mGET /api?text=%ED%99%8D%EA%B8%B8%EB%8F%99%ED%95%9C%ED%85%8C%20%EC%98%A4%EC%B2%9C%EB%A7%8C%EC%9B%90%20%EC%86%A1%EA%B8%88%ED%95%B4%EC%A4%98 HTTP/1.1\u001b[0m\" 200 -\n",
      "127.0.0.1 - - [23/Sep/2019 17:38:39] \"\u001b[37mGET /api?text=%ED%99%8D%EA%B8%B8%EB%8F%99%EC%97%90%EA%B2%8C%20%EC%9C%A1%EB%B0%B1%EB%A7%8C%EC%9B%90%20%EC%86%A1%EA%B8%88%ED%95%B4 HTTP/1.1\u001b[0m\" 200 -\n",
      "127.0.0.1 - - [23/Sep/2019 17:38:51] \"\u001b[37mGET /api?text=%ED%99%8D%EA%B8%B8%EB%8F%99%20%EC%8B%A0%ED%95%9C%EC%9D%80%ED%96%89%20%EA%B3%84%EC%A2%8C%EB%A1%9C%2013%EB%A7%8C5500%EC%9B%90%20%EB%B3%B4%EB%82%B4%EC%A4%98 HTTP/1.1\u001b[0m\" 200 -\n",
      "127.0.0.1 - - [23/Sep/2019 17:38:52] \"\u001b[37mGET /api?text=%ED%99%8D%EA%B8%B8%EB%8F%99%20%EC%8B%A0%ED%95%9C%EC%9D%80%ED%96%89%20%EA%B3%84%EC%A2%8C%EB%A1%9C%2013%EB%A7%8C5500%EC%9B%90%20%EB%B3%B4%EB%82%B4%EC%A4%98 HTTP/1.1\u001b[0m\" 200 -\n",
      "127.0.0.1 - - [23/Sep/2019 17:39:08] \"\u001b[37mGET /api?text=%ED%99%8D%EA%B8%B8%EB%8F%99%EC%9D%98%20%EA%B5%AD%EB%AF%BC%EC%9D%80%ED%96%89%20%EA%B3%84%EC%A2%8C%EB%A1%9C%20%EC%98%A4%EC%8B%AD%EC%98%A4%EB%A7%8C%20%EC%9C%A1%EC%B2%9C%20%ED%8C%94%EB%B0%B1%20%EC%B9%A0%EC%8B%AD%EC%9B%90%20%EB%B3%B4%EB%82%B4%EC%A4%98 HTTP/1.1\u001b[0m\" 200 -\n",
      "127.0.0.1 - - [23/Sep/2019 17:39:20] \"\u001b[37mGET /api?text=%ED%99%8D%EA%B8%B8%EB%8F%99%20%EC%B9%B4%EC%B9%B4%EC%98%A4%EB%B1%85%ED%81%AC%20%EA%B3%84%EC%A2%8C%EB%A1%9C%2052%EB%A7%8C8700%EC%9B%90%20%EB%B3%B4%EB%82%B4%EC%A4%98 HTTP/1.1\u001b[0m\" 200 -\n",
      "127.0.0.1 - - [23/Sep/2019 17:39:34] \"\u001b[37mGET /api?text=%ED%99%8D%EA%B8%B8%EB%8F%99%20%EC%B9%B4%EC%B9%B4%EC%98%A4%EB%B1%85%ED%81%AC%EC%97%90%20%EC%98%A4%EB%A7%8C%EC%9C%A1%EC%B2%9C%EC%9B%90%20%EC%86%A1%EA%B8%88%ED%95%B4 HTTP/1.1\u001b[0m\" 200 -\n"
     ]
    }
   ],
   "source": [
    "import flask\n",
    "from flask_restful import Resource, Api\n",
    "from flask import request\n",
    "import json\n",
    "# 포트번호\n",
    "TM_PORT_NO = 8085\n",
    "\n",
    "# HTTP 서버 실행하기\n",
    "app = flask.Flask(__name__)\n",
    "print(\"http://localhost:\" + str(TM_PORT_NO))\n",
    "\n",
    "\n",
    "# 루트에 접근할 경우\n",
    "@app.route('/', methods = ['GET'])\n",
    "def index():\n",
    "    with open('index.html', 'rb') as f :\n",
    "        return f.read()\n",
    "    \n",
    "    \n",
    "@app.route('/api', methods = ['GET'])\n",
    "def api():\n",
    "    # URL 매개 변수 추출하기\n",
    "    text = request.args.get('text', '')\n",
    "    dic = {}\n",
    "    a = text.split(' ')\n",
    "    dic['text'] = a[0][0:3]\n",
    "    dic['bank'] = \" \"\n",
    "    for i in range(0,len(a)):\n",
    "        t = re.findall('[0-9,일,이,삼,사,오,육,칠,팔,구]+[십,백,천,만,억,원]+',text)\n",
    "        val = \"\"\n",
    "        for i in t:\n",
    "            val = val + i\n",
    "            dic[\"val\"] = val\n",
    "    for i in range(0,len(a)):\n",
    "        if len(re.findall('.*은행',a[i])) > 0:\n",
    "            dic[\"bank\"] = re.findall('.*은행',a[i])[0]\n",
    "        elif len(re.findall('.*뱅크',a[i])) > 0:\n",
    "            dic[\"bank\"] = re.findall('.*뱅크',a[i])[0]\n",
    "       \n",
    "            \n",
    "    return json.dumps({\"text\": dic['text'],\n",
    "                        \"val\" : dic['val'],\n",
    "                        \"bank\": dic['bank']})\n",
    "\n",
    "\n",
    "if __name__ == '__main__' :\n",
    "    # 서버 실행하기\n",
    "    app.run(debug=False, port = TM_PORT_NO, threaded = False)  "
   ]
  },
  {
   "cell_type": "code",
   "execution_count": 182,
   "metadata": {},
   "outputs": [],
   "source": [
    "text = \"홍길동의 국민은행 계좌로 오십오만 육천 팔백 칠십원 보내줘\""
   ]
  },
  {
   "cell_type": "code",
   "execution_count": 172,
   "metadata": {},
   "outputs": [
    {
     "data": {
      "text/plain": [
       "['홍길동 카카오뱅크 계좌로 52만8700원']"
      ]
     },
     "execution_count": 172,
     "metadata": {},
     "output_type": "execute_result"
    }
   ],
   "source": [
    "import re\n",
    "re.findall('.*원',text)\n",
    "# re.findall('.*은행',text)\n",
    "# re.findall('.*뱅크',text)"
   ]
  },
  {
   "cell_type": "code",
   "execution_count": 150,
   "metadata": {},
   "outputs": [],
   "source": [
    "text1=\"오십오만 육천 팔백 칠십원\""
   ]
  },
  {
   "cell_type": "code",
   "execution_count": 155,
   "metadata": {},
   "outputs": [
    {
     "data": {
      "text/plain": [
       "['오십', '오만', '육천', '팔백', '칠십원']"
      ]
     },
     "execution_count": 155,
     "metadata": {},
     "output_type": "execute_result"
    }
   ],
   "source": [
    "a2 = text1.split(\" \")\n",
    "re.findall('[0-9,일,이,삼,사,오,육,칠,팔,구]+[십,백,천,만,억,원]+',text1)"
   ]
  },
  {
   "cell_type": "code",
   "execution_count": 183,
   "metadata": {},
   "outputs": [],
   "source": [
    "dic = {}\n",
    "a = text.split(' ')\n",
    "dic['text'] = a[0][0:3]\n",
    "dic['bank'] = \" \"\n",
    "for i in range(0,len(a)):\n",
    "    t = re.findall('[0-9,일,이,삼,사,오,육,칠,팔,구]+[십,백,천,만,억,원]+',text)\n",
    "    val = \"\"\n",
    "    for i in t:\n",
    "        val = val + i\n",
    "        dic[\"val\"] = val\n",
    "for i in range(0,len(a)):\n",
    "    if len(re.findall('.*은행',a[i])) > 0:\n",
    "        dic[\"bank\"] = re.findall('.*은행',a[i])[0]\n",
    "    elif len(re.findall('.*뱅크',a[i])) > 0:\n",
    "        dic[\"bank\"] = re.findall('.*뱅크',a[i])[0]\n",
    "               \n",
    "    "
   ]
  },
  {
   "cell_type": "code",
   "execution_count": 184,
   "metadata": {
    "scrolled": true
   },
   "outputs": [
    {
     "data": {
      "text/plain": [
       "{'text': '홍길동', 'bank': '국민은행', 'val': '오십오만육천팔백칠십원'}"
      ]
     },
     "execution_count": 184,
     "metadata": {},
     "output_type": "execute_result"
    }
   ],
   "source": [
    "dic"
   ]
  }
 ],
 "metadata": {
  "kernelspec": {
   "display_name": "Python 3",
   "language": "python",
   "name": "python3"
  },
  "language_info": {
   "codemirror_mode": {
    "name": "ipython",
    "version": 3
   },
   "file_extension": ".py",
   "mimetype": "text/x-python",
   "name": "python",
   "nbconvert_exporter": "python",
   "pygments_lexer": "ipython3",
   "version": "3.7.3"
  }
 },
 "nbformat": 4,
 "nbformat_minor": 2
}
