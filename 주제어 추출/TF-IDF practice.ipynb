{
 "cells": [
  {
   "cell_type": "code",
   "execution_count": 3,
   "metadata": {},
   "outputs": [
    {
     "name": "stdout",
     "output_type": "stream",
     "text": [
      "[[0.         0.46735098 0.         0.46735098 0.         0.46735098\n",
      "  0.         0.35543247 0.46735098]\n",
      " [0.         0.         0.79596054 0.         0.         0.\n",
      "  0.         0.60534851 0.        ]\n",
      " [0.57735027 0.         0.         0.         0.57735027 0.\n",
      "  0.57735027 0.         0.        ]]\n",
      "{'you': 7, 'know': 1, 'want': 5, 'your': 8, 'love': 3, 'like': 2, 'what': 6, 'should': 4, 'do': 0}\n"
     ]
    }
   ],
   "source": [
    "from math import log10\n",
    "\n",
    "def f(term, doc):\n",
    "    return doc.count(term)\n",
    "\n",
    "def tf(term, doc):\n",
    "    return 0.5 + 0.5*f(term,doc)/max([f(word,doc) for word in doc])\n",
    "\n",
    "def idf(term, doc_li):\n",
    "    numerator = len(doc_li)\n",
    "    denominator = 1 + len([ True for doc in doc_li if term in doc])\n",
    "    return log10(numerator/denominator)\n",
    "\n",
    "def tfidf(term, doc, doc_li):\n",
    "    return tf(term,doc)*idf(term, doc_li)\n",
    "\n",
    "def tokenizer(d):\n",
    "    # return [ t for t in d.split() if len(t) > 1 ]\n",
    "    return d.split()\n",
    "\n",
    "def tfidfScorer(D):\n",
    "    tokenized_D = [tokenizer(d) for d in D]\n",
    "    result = []\n",
    "    for d in tokenized_D:\n",
    "        result.append([(t, tfidf(t, d, tokenized_D)) for t in d])\n",
    "    return result\n",
    "\n",
    "\n",
    "\n"
   ]
  },
  {
   "cell_type": "code",
   "execution_count": null,
   "metadata": {},
   "outputs": [],
   "source": []
  },
  {
   "cell_type": "code",
   "execution_count": null,
   "metadata": {},
   "outputs": [],
   "source": []
  },
  {
   "cell_type": "code",
   "execution_count": null,
   "metadata": {},
   "outputs": [],
   "source": []
  },
  {
   "cell_type": "code",
   "execution_count": null,
   "metadata": {},
   "outputs": [],
   "source": []
  },
  {
   "cell_type": "code",
   "execution_count": null,
   "metadata": {},
   "outputs": [],
   "source": []
  },
  {
   "cell_type": "code",
   "execution_count": null,
   "metadata": {},
   "outputs": [],
   "source": []
  },
  {
   "cell_type": "code",
   "execution_count": null,
   "metadata": {},
   "outputs": [],
   "source": []
  }
 ],
 "metadata": {
  "kernelspec": {
   "display_name": "Python 3",
   "language": "python",
   "name": "python3"
  },
  "language_info": {
   "codemirror_mode": {
    "name": "ipython",
    "version": 3
   },
   "file_extension": ".py",
   "mimetype": "text/x-python",
   "name": "python",
   "nbconvert_exporter": "python",
   "pygments_lexer": "ipython3",
   "version": "3.7.3"
  }
 },
 "nbformat": 4,
 "nbformat_minor": 2
}
